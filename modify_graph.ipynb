{
 "cells": [
  {
   "cell_type": "code",
   "execution_count": 1,
   "metadata": {},
   "outputs": [],
   "source": [
    "import numpy as np \n",
    "\n",
    "graph = np.load('ni_graphs/spanish_qg_normalized.npy')"
   ]
  },
  {
   "cell_type": "code",
   "execution_count": 2,
   "metadata": {},
   "outputs": [
    {
     "data": {
      "text/plain": [
       "array([[0.44526   , 0.07692367, 0.12117052, 0.02576991],\n",
       "       [0.        , 0.68370986, 0.        , 0.45911205],\n",
       "       [0.08830632, 0.04657436, 0.50009012, 0.07984545],\n",
       "       [0.        , 0.36102529, 0.        , 0.45529002]])"
      ]
     },
     "execution_count": 2,
     "metadata": {},
     "output_type": "execute_result"
    }
   ],
   "source": [
    "graph"
   ]
  },
  {
   "cell_type": "code",
   "execution_count": 16,
   "metadata": {},
   "outputs": [],
   "source": [
    "columns = ['english QA', 'spanish QA', 'english QG', 'spanish QG']\n",
    "\n",
    "# retrieve only the cells for spanish QA and spanish QG, do not include the english ones\n",
    "\n",
    "spanish_qa = graph[:,1]\n",
    "spanish_qg = graph[:,3]\n",
    "\n",
    "# stack the two arrays vertically\n",
    "spanish = np.vstack((spanish_qa, spanish_qg))\n",
    "\n",
    "# retrieve only the rows for spanish QA and spanish QG\n",
    "spanish_qa_only = spanish[:,1]\n",
    "spanish_qg_only = spanish[:,3]\n",
    "\n",
    "# stack the two arrays vertically\n",
    "spanish = np.vstack((spanish_qa_only, spanish_qg_only))"
   ]
  },
  {
   "cell_type": "code",
   "execution_count": 18,
   "metadata": {},
   "outputs": [],
   "source": [
    "spanish\n",
    "\n",
    "# save to new array\n",
    "np.save('ni_graphs/spanish_qa_qg_only.npy', spanish)"
   ]
  },
  {
   "cell_type": "code",
   "execution_count": 19,
   "metadata": {},
   "outputs": [
    {
     "data": {
      "text/plain": [
       "array([[0.68370986, 0.45911205],\n",
       "       [0.36102529, 0.45529002]])"
      ]
     },
     "execution_count": 19,
     "metadata": {},
     "output_type": "execute_result"
    }
   ],
   "source": [
    "spanish"
   ]
  },
  {
   "cell_type": "code",
   "execution_count": 1,
   "metadata": {},
   "outputs": [
    {
     "data": {
      "text/plain": [
       "array([[0. , 0. , 0. , 0. ],\n",
       "       [0. , 0.5, 0. , 0.5],\n",
       "       [0. , 0. , 0. , 0. ],\n",
       "       [0. , 0.5, 0. , 0.5]])"
      ]
     },
     "execution_count": 1,
     "metadata": {},
     "output_type": "execute_result"
    }
   ],
   "source": [
    "import numpy as np \n",
    "\n",
    "np.load('ni_graphs/spanish_qa_qg_normalized.npy')"
   ]
  },
  {
   "cell_type": "code",
   "execution_count": null,
   "metadata": {},
   "outputs": [],
   "source": []
  }
 ],
 "metadata": {
  "kernelspec": {
   "display_name": "skill-it",
   "language": "python",
   "name": "python3"
  },
  "language_info": {
   "codemirror_mode": {
    "name": "ipython",
    "version": 3
   },
   "file_extension": ".py",
   "mimetype": "text/x-python",
   "name": "python",
   "nbconvert_exporter": "python",
   "pygments_lexer": "ipython3",
   "version": "3.10.14"
  }
 },
 "nbformat": 4,
 "nbformat_minor": 2
}
