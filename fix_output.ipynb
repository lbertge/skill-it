{
 "cells": [
  {
   "cell_type": "code",
   "execution_count": 1,
   "metadata": {},
   "outputs": [],
   "source": [
    "import os \n",
    "import glob\n",
    "\n",
    "dataset_versions = [\n",
    "    'real_00_split',\n",
    "    'real_01_split',\n",
    "    'real_02_split',\n",
    "    'real_04_split',\n",
    "    'real_05_split',\n",
    "    'real_09_split',\n",
    "    'real_095_split',\n",
    "    'real_10_split',\n",
    "    'synthetic_00_split',\n",
    "    'synthetic_01_split',\n",
    "    'synthetic_02_split',\n",
    "    'synthetic_04_split',\n",
    "    'synthetic_05_split',\n",
    "    'synthetic_09_split',\n",
    "    'synthetic_095_split',\n",
    "    'synthetic_10_split',\n",
    "    'target_only'\n",
    "]\n",
    "\n",
    "def find_first_folder_in_folder(folder_path):\n",
    "    # Traverse the directory\n",
    "    for root, dirs, files in os.walk(folder_path):\n",
    "        if dirs:\n",
    "            # Return the full path to the first folder found\n",
    "            return os.path.join(root, dirs[0])\n",
    "    # Return None if no folders are found\n",
    "    return None\n",
    "\n",
    "prefix = './output/untrained_synthetic_fractions2/'\n",
    "for version in dataset_versions: \n",
    "    folder_path = prefix + version\n",
    "    folder_name = find_first_folder_in_folder(folder_path)\n",
    "\n",
    "    if folder_name is None:\n",
    "        continue\n",
    "\n",
    "    correct_files = glob.glob(folder_name + \"/*.pkl\")\n",
    "    for file in correct_files: \n",
    "        # move up one directory\n",
    "        os.rename(file, folder_path + '/' + os.path.basename(file))\n",
    "    \n",
    "    # remove the folder \n",
    "    os.rmdir(folder_name)\n",
    "    \n"
   ]
  },
  {
   "cell_type": "code",
   "execution_count": null,
   "metadata": {},
   "outputs": [],
   "source": []
  }
 ],
 "metadata": {
  "kernelspec": {
   "display_name": "skill-it",
   "language": "python",
   "name": "python3"
  },
  "language_info": {
   "codemirror_mode": {
    "name": "ipython",
    "version": 3
   },
   "file_extension": ".py",
   "mimetype": "text/x-python",
   "name": "python",
   "nbconvert_exporter": "python",
   "pygments_lexer": "ipython3",
   "version": "3.10.14"
  }
 },
 "nbformat": 4,
 "nbformat_minor": 2
}
